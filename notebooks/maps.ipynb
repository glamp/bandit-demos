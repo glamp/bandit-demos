{
 "cells": [
  {
   "cell_type": "code",
   "execution_count": 5,
   "metadata": {
    "collapsed": true
   },
   "outputs": [],
   "source": [
    "import pandas as pd\n",
    "import numpy as np\n",
    "import seaborn as sns"
   ]
  },
  {
   "cell_type": "code",
   "execution_count": 6,
   "metadata": {
    "collapsed": false
   },
   "outputs": [
    {
     "data": {
      "text/html": [
       "<div>\n",
       "<table border=\"1\" class=\"dataframe\">\n",
       "  <thead>\n",
       "    <tr style=\"text-align: right;\">\n",
       "      <th></th>\n",
       "      <th>week</th>\n",
       "      <th>OS</th>\n",
       "      <th>downloads</th>\n",
       "      <th>new_users</th>\n",
       "      <th>new_user_cmds</th>\n",
       "      <th>download_loss</th>\n",
       "      <th>new_user_loss</th>\n",
       "      <th>total_loss</th>\n",
       "    </tr>\n",
       "  </thead>\n",
       "  <tbody>\n",
       "    <tr>\n",
       "      <th>0</th>\n",
       "      <td>48</td>\n",
       "      <td>Macintosh</td>\n",
       "      <td>250</td>\n",
       "      <td>231</td>\n",
       "      <td>124</td>\n",
       "      <td>19</td>\n",
       "      <td>107</td>\n",
       "      <td>126</td>\n",
       "    </tr>\n",
       "    <tr>\n",
       "      <th>1</th>\n",
       "      <td>47</td>\n",
       "      <td>Macintosh</td>\n",
       "      <td>287</td>\n",
       "      <td>294</td>\n",
       "      <td>149</td>\n",
       "      <td>-7</td>\n",
       "      <td>145</td>\n",
       "      <td>138</td>\n",
       "    </tr>\n",
       "    <tr>\n",
       "      <th>2</th>\n",
       "      <td>46</td>\n",
       "      <td>Macintosh</td>\n",
       "      <td>390</td>\n",
       "      <td>313</td>\n",
       "      <td>156</td>\n",
       "      <td>77</td>\n",
       "      <td>157</td>\n",
       "      <td>234</td>\n",
       "    </tr>\n",
       "    <tr>\n",
       "      <th>3</th>\n",
       "      <td>45</td>\n",
       "      <td>Macintosh</td>\n",
       "      <td>245</td>\n",
       "      <td>232</td>\n",
       "      <td>109</td>\n",
       "      <td>13</td>\n",
       "      <td>123</td>\n",
       "      <td>136</td>\n",
       "    </tr>\n",
       "    <tr>\n",
       "      <th>4</th>\n",
       "      <td>44</td>\n",
       "      <td>Macintosh</td>\n",
       "      <td>269</td>\n",
       "      <td>257</td>\n",
       "      <td>126</td>\n",
       "      <td>12</td>\n",
       "      <td>131</td>\n",
       "      <td>143</td>\n",
       "    </tr>\n",
       "  </tbody>\n",
       "</table>\n",
       "</div>"
      ],
      "text/plain": [
       "   week         OS  downloads  new_users  new_user_cmds  download_loss  \\\n",
       "0    48  Macintosh        250        231            124             19   \n",
       "1    47  Macintosh        287        294            149             -7   \n",
       "2    46  Macintosh        390        313            156             77   \n",
       "3    45  Macintosh        245        232            109             13   \n",
       "4    44  Macintosh        269        257            126             12   \n",
       "\n",
       "   new_user_loss  total_loss  \n",
       "0            107         126  \n",
       "1            145         138  \n",
       "2            157         234  \n",
       "3            123         136  \n",
       "4            131         143  "
      ]
     },
     "execution_count": 6,
     "metadata": {},
     "output_type": "execute_result"
    }
   ],
   "source": [
    "df=pd.read_excel('/Users/coristig/05-12-16_rodeo.xlsx')\n",
    "df.head(n=5)"
   ]
  },
  {
   "cell_type": "code",
   "execution_count": 8,
   "metadata": {
    "collapsed": false
   },
   "outputs": [
    {
     "name": "stderr",
     "output_type": "stream",
     "text": [
      "/Users/coristig/rodeoconda/lib/python3.5/site-packages/statsmodels/nonparametric/kdetools.py:20: VisibleDeprecationWarning: using a non-integer number instead of an integer will result in an error in the future\n",
      "  y = X[:m/2+1] + np.r_[0,X[m/2+1:],0]*1j\n"
     ]
    },
    {
     "data": {
      "text/plain": [
       "<matplotlib.axes._subplots.AxesSubplot at 0x10da640f0>"
      ]
     },
     "execution_count": 8,
     "metadata": {},
     "output_type": "execute_result"
    },
    {
     "data": {
      "image/png": "[encoded data removed]",
      "text/plain": [
       "<matplotlib.figure.Figure at 0x10d8d8748>"
      ]
     },
     "metadata": {},
     "output_type": "display_data"
    }
   ],
   "source": [
    "%matplotlib inline\n",
    "sns.distplot(df.download_loss)"
   ]
  },
  {
   "cell_type": "code",
   "execution_count": null,
   "metadata": {
    "collapsed": true
   },
   "outputs": [],
   "source": []
  }
 ],
 "metadata": {
  "anaconda-cloud": {},
  "kernelspec": {
   "display_name": "Python [conda root]",
   "language": "python",
   "name": "conda-root-py"
  },
  "language_info": {
   "codemirror_mode": {
    "name": "ipython",
    "version": 3
   },
   "file_extension": ".py",
   "mimetype": "text/x-python",
   "name": "python",
   "nbconvert_exporter": "python",
   "pygments_lexer": "ipython3",
   "version": "3.5.2"
  }
 },
 "nbformat": 4,
 "nbformat_minor": 1
}
